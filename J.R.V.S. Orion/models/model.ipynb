{
 "cells": [
  {
   "cell_type": "code",
   "execution_count": null,
   "id": "initial_id",
   "metadata": {
    "collapsed": true
   },
   "outputs": [],
   "source": [
    "import self\n",
    "import torch\n",
    "import torch.nn as nn\n",
    "import torch.optim as optim\n",
    "import random\n",
    "import pandas as pd"
   ]
  },
  {
   "metadata": {},
   "cell_type": "markdown",
   "source": "Ładowanie danych z pliku CSV",
   "id": "cf5f4b1c755e6b9c"
  },
  {
   "metadata": {},
   "cell_type": "code",
   "outputs": [],
   "execution_count": null,
   "source": [
    "df = pd.read_csv(\"dane.csv\")\n",
    "X = df[[\"cecha1\", \"cecha2\", \"cecha3\"]].values.tolist()\n",
    "y = df[\"wartość_docelowa\"].values.tolist()\n",
    "data = list(zip(X, y))"
   ],
   "id": "23914d18243d4296"
  },
  {
   "metadata": {},
   "cell_type": "markdown",
   "source": "Definicja Modelu JRVS",
   "id": "69a38cb41890cb37"
  },
  {
   "metadata": {},
   "cell_type": "code",
   "outputs": [],
   "execution_count": null,
   "source": [
    "class JRVS(nn.Module):\n",
    "    def __init__(self, input_size, hidden_size, output_size):\n",
    "        super(JRVS, self).__init__()\n",
    "        self.hidden_size = hidden_size\n",
    "\n",
    "        self.lstm = nn.LSTM(input_size, hidden_size, batch_first=True)\n",
    "        self.fc = nn.Linear(hidden_size, output_size)\n",
    "\n",
    "    def forward(self, x, hidden):\n",
    "        out, hidden = self.lstm(x, hidden)\n",
    "        out = self.fc(out[:, -1, :])\n",
    "        return out, hidden\n",
    "\n",
    "    def init_hidden(self, batch_size):\n",
    "        return (torch.zeros(1, batch_size, self.hidden_size),\n",
    "                torch.zeros(1, batch_size, self.hidden_size))\n"
   ],
   "id": "fea6eed97f024d78"
  },
  {
   "metadata": {},
   "cell_type": "markdown",
   "source": "Klasa Trenera Ewolucyjnego",
   "id": "62e54bb8d822a883"
  },
  {
   "metadata": {},
   "cell_type": "code",
   "outputs": [],
   "execution_count": null,
   "source": [
    "class EvolutionaryTrainer:\n",
    "    def __init__(self, model, learning_rate=0.001):\n",
    "        self.model = model\n",
    "        self.criterion = nn.MSELoss()\n",
    "        self.optimizer = optim.Adam(model.parameters(), lr=learning_rate)\n",
    "\n",
    "    def train(self, data, epochs=10):\n",
    "        for epoch in range(epochs):\n",
    "            total_loss = 0\n",
    "            for x, y in data:\n",
    "                x, y = torch.tensor(x, dtype=torch.float32), torch.tensor(y, dtype=torch.float32)\n",
    "                hidden = self.model.init_hidden(x.size(0))\n",
    "\n",
    "                self.optimizer.zero_grad()\n",
    "                output, _ = self.model(x, hidden)\n",
    "                loss = self.criterion(output, y)\n",
    "                loss.backward()\n",
    "                self.optimizer.step()\n",
    "\n",
    "                total_loss += loss.item()\n",
    "            print(f\"Epoch {epoch+1}/{epochs}, Loss: {total_loss:.4f}\")\n",
    "\n",
    "    def evolve(self):\n",
    "        mutation_rate = 0.1\n",
    "        for param in self.model.parameters():\n",
    "            if random.random() < mutation_rate:\n",
    "                noise = torch.randn_like(param) * 0.1\n",
    "                param.data += noise\n",
    "        print(\"Model evolved!\")\n",
    "\n",
    "    def save_model(self, path=\"jrvs_model.pth\"):\n",
    "        torch.save(self.model.state_dict(), path)\n",
    "\n",
    "    def load_model(self, path=\"jrvs_model.pth\"):\n",
    "        self.model.load_state_dict(torch.load(path))\n",
    "        self.model.eval()"
   ],
   "id": "324ccba7431d4c6"
  },
  {
   "metadata": {},
   "cell_type": "markdown",
   "source": "Przygotowanie Danych",
   "id": "3e26448a1ffd47ba"
  },
  {
   "metadata": {},
   "cell_type": "code",
   "outputs": [],
   "execution_count": null,
   "source": [
    "data = [\n",
    "    ([0.1, 0.2, 0.3], [0.5]),\n",
    "    ([0.2, 0.3, 0.4], [0.6]),\n",
    "    ([0.3, 0.4, 0.5], [0.7])\n",
    "]"
   ],
   "id": "61271f8630b5d91f"
  },
  {
   "metadata": {},
   "cell_type": "markdown",
   "source": "Inicjalizacja Modelu i Trening",
   "id": "53da1157ae0d5093"
  },
  {
   "metadata": {},
   "cell_type": "code",
   "outputs": [],
   "execution_count": null,
   "source": [
    "input_size = 3\n",
    "hidden_size = 16\n",
    "output_size = 1\n",
    "\n",
    "jrvs = JRVS(input_size, hidden_size, output_size)\n",
    "trainer = EvolutionaryTrainer(jrvs)\n",
    "trainer.train(data, epochs=10)\n",
    "trainer.evolve()\n",
    "trainer.save_model()"
   ],
   "id": "34936098a8f0a5fe"
  },
  {
   "metadata": {},
   "cell_type": "markdown",
   "source": "Konwersja danych na tensory PyTorch:",
   "id": "7a7aaa3c50e8792b"
  },
  {
   "metadata": {},
   "cell_type": "code",
   "outputs": [],
   "execution_count": null,
   "source": [
    "for x_data, y_data in data:\n",
    "    x = torch.tensor(x_data, dtype=torch.float32).unsqueeze(0)  # Dodaj wymiar batch_size\n",
    "    y = torch.tensor(y_data, dtype=torch.float32).unsqueeze(0)"
   ],
   "id": "25862fbd17310ab8"
  },
  {
   "metadata": {},
   "cell_type": "markdown",
   "source": "Inicjalizacja ukrytego stanu (ważne dla LSTM):",
   "id": "4d670ca9fc814a97"
  },
  {
   "metadata": {},
   "cell_type": "code",
   "outputs": [],
   "execution_count": null,
   "source": "hidden = self.model.init_hidden(x.size(0))",
   "id": "ab0e01f1e00c0b00"
  },
  {
   "metadata": {},
   "cell_type": "markdown",
   "source": "Propagacja w przód – obliczanie przewidywań modelu:",
   "id": "2d8c41c3df18e4e9"
  },
  {
   "metadata": {},
   "cell_type": "code",
   "outputs": [],
   "execution_count": null,
   "source": "output, _ = self.model(x, hidden)",
   "id": "c3434f86cf79e05a"
  },
  {
   "metadata": {},
   "cell_type": "markdown",
   "source": "Obliczenie straty:",
   "id": "6bbf9088e1681e61"
  },
  {
   "metadata": {},
   "cell_type": "code",
   "outputs": [],
   "execution_count": null,
   "source": "loss = self.criterion(output, y)",
   "id": "a6ef8c6f2fbc09a0"
  },
  {
   "metadata": {},
   "cell_type": "markdown",
   "source": "Propagacja wsteczna (backpropagation) i aktualizacja wag:",
   "id": "cb9c302ecf253493"
  },
  {
   "metadata": {},
   "cell_type": "code",
   "outputs": [],
   "execution_count": null,
   "source": [
    "loss.backward()\n",
    "self.optimizer.step()"
   ],
   "id": "f69b6de67cdeefc5"
  },
  {
   "metadata": {},
   "cell_type": "markdown",
   "source": "Ewolucja modelu",
   "id": "79e32312eb641df4"
  },
  {
   "metadata": {},
   "cell_type": "code",
   "outputs": [],
   "execution_count": null,
   "source": [
    "def evolve(self, mutation_rate=0.1):\n",
    "    for param in self.model.parameters():\n",
    "        if random.random() < mutation_rate:\n",
    "            noise = torch.randn_like(param) * 0.1\n",
    "            param.data += noise\n",
    "    print(\"Model evolved!\")"
   ],
   "id": "8359db31ad6b1a1"
  },
  {
   "metadata": {},
   "cell_type": "markdown",
   "source": "sekcja elitarna",
   "id": "db703defbfb74026"
  },
  {
   "metadata": {},
   "cell_type": "code",
   "outputs": [],
   "execution_count": null,
   "source": [
    "def evolve_population(population, scores, retain_rate=0.2):\n",
    "    sorted_models = [x for _, x in sorted(zip(scores, population), reverse=True)]\n",
    "    num_retain = int(len(sorted_models) * retain_rate)\n",
    "    return sorted_models[:num_retain]"
   ],
   "id": "568779cf597bb78b"
  },
  {
   "metadata": {
    "jupyter": {
     "is_executing": true
    }
   },
   "cell_type": "code",
   "source": "trainer.evolve(mutation_rate=0.1)",
   "id": "b74f6f47c59d1c65",
   "outputs": [],
   "execution_count": null
  },
  {
   "metadata": {},
   "cell_type": "code",
   "outputs": [],
   "execution_count": null,
   "source": "",
   "id": "71b2de662f765a51"
  }
 ],
 "metadata": {
  "kernelspec": {
   "display_name": "Python 3",
   "language": "python",
   "name": "python3"
  },
  "language_info": {
   "codemirror_mode": {
    "name": "ipython",
    "version": 2
   },
   "file_extension": ".py",
   "mimetype": "text/x-python",
   "name": "python",
   "nbconvert_exporter": "python",
   "pygments_lexer": "ipython2",
   "version": "2.7.6"
  }
 },
 "nbformat": 4,
 "nbformat_minor": 5
}
